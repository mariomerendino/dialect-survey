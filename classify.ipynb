{
 "cells": [
  {
   "cell_type": "code",
   "execution_count": 1,
   "metadata": {},
   "outputs": [],
   "source": [
    "import pandas as pd\n",
    "import numpy as np\n",
    "\n",
    "from sklearn.model_selection import train_test_split\n",
    "from sklearn.feature_extraction.text import CountVectorizer\n",
    "from sklearn.feature_extraction.text import TfidfTransformer\n",
    "from sklearn.pipeline import Pipeline\n",
    "from sklearn.naive_bayes import MultinomialNB\n",
    "from sklearn.linear_model import SGDClassifier\n",
    "from sklearn.metrics import accuracy_score"
   ]
  },
  {
   "cell_type": "code",
   "execution_count": 2,
   "metadata": {},
   "outputs": [],
   "source": [
    "df = pd.read_csv('survey.csv')"
   ]
  },
  {
   "cell_type": "code",
   "execution_count": 3,
   "metadata": {},
   "outputs": [],
   "source": [
    "regions = ['Abruzzo', 'Basilicata', 'Calabria', 'Campania', 'Emiglia-Romagna', 'Friuli-Venezia Giulia', 'Lazio', 'Liguria', 'Lombardia', 'Marche', 'Molise', 'Piemonte', 'Puglia', 'Sardegna', 'Sicilia', 'Svizzera Italiana', 'Toscana', 'Trentino-Alto Adige', 'Umbria', \"Valle d'Aosta\", 'Veneto']"
   ]
  },
  {
   "cell_type": "code",
   "execution_count": 4,
   "metadata": {},
   "outputs": [],
   "source": [
    "questions = df.columns.values"
   ]
  },
  {
   "cell_type": "markdown",
   "metadata": {},
   "source": [
    "### get target (Regions column)"
   ]
  },
  {
   "cell_type": "code",
   "execution_count": 5,
   "metadata": {},
   "outputs": [],
   "source": [
    "y = df[questions[1]]"
   ]
  },
  {
   "cell_type": "markdown",
   "metadata": {},
   "source": [
    "### combine each row of responses into 1 cell titled 'Responses'"
   ]
  },
  {
   "cell_type": "code",
   "execution_count": 6,
   "metadata": {},
   "outputs": [],
   "source": [
    "df['Responses'] = df[df.columns[1:]].apply(lambda x: ','.join(x.dropna().astype(str)),axis=1)"
   ]
  },
  {
   "cell_type": "markdown",
   "metadata": {},
   "source": [
    "### get data ('Responses' column is the last column in df)"
   ]
  },
  {
   "cell_type": "code",
   "execution_count": 7,
   "metadata": {},
   "outputs": [],
   "source": [
    "X = df[df.columns[-1]]"
   ]
  },
  {
   "cell_type": "markdown",
   "metadata": {},
   "source": [
    "### divide X and y into test and train portions\n",
    "#### play arround with test_size (percentage of data not included in training) and random_state (so specific results can be replicated)"
   ]
  },
  {
   "cell_type": "code",
   "execution_count": 8,
   "metadata": {},
   "outputs": [],
   "source": [
    "X_train, X_test, y_train, y_test = train_test_split(X, y, test_size=0.15, random_state=23)"
   ]
  },
  {
   "cell_type": "markdown",
   "metadata": {},
   "source": [
    "### classify using naive Bayes"
   ]
  },
  {
   "cell_type": "code",
   "execution_count": 9,
   "metadata": {},
   "outputs": [
    {
     "name": "stdout",
     "output_type": "stream",
     "text": [
      "mean:  0.4166666666666667\n",
      "accuracy_score:  0.4166666666666667\n"
     ]
    }
   ],
   "source": [
    "clf = Pipeline([('vect', CountVectorizer()), \n",
    "                     ('tfidf', TfidfTransformer()), \n",
    "                     ('clf', MultinomialNB()),\n",
    "])\n",
    "\n",
    "clf.fit(X_train, y_train)  \n",
    "pred = clf.predict(X_test)\n",
    "\n",
    "print('mean: ', np.mean(pred == y_test))\n",
    "\n",
    "\n",
    "print('accuracy_score: ', accuracy_score(y_test, pred))"
   ]
  },
  {
   "cell_type": "markdown",
   "metadata": {},
   "source": [
    "### classify using support vector machine"
   ]
  },
  {
   "cell_type": "code",
   "execution_count": 10,
   "metadata": {},
   "outputs": [
    {
     "name": "stdout",
     "output_type": "stream",
     "text": [
      "mean:  0.9166666666666666\n",
      "accuracy_score:  0.9166666666666666\n"
     ]
    }
   ],
   "source": [
    "clf = Pipeline([('vect', CountVectorizer()), \n",
    "                     ('tfidf', TfidfTransformer()), \n",
    "                     ('clf', SGDClassifier(loss='hinge', penalty='l2',\n",
    "                                            alpha=1e-3, random_state=42,\n",
    "                                              max_iter=5, tol=None)),\n",
    "])\n",
    "\n",
    "clf.fit(X_train, y_train) \n",
    "\n",
    "pred = clf.predict(X_test)\n",
    "\n",
    "print('mean: ', np.mean(pred == y_test))\n",
    "\n",
    "\n",
    "print('accuracy_score: ', accuracy_score(y_test, pred))\n"
   ]
  },
  {
   "cell_type": "code",
   "execution_count": 11,
   "metadata": {},
   "outputs": [],
   "source": [
    "pred = pd.Series(pred, name='predicted')\n",
    "compare = pd.concat([pred,y_test.reset_index()], axis=1).drop('index', axis=1)"
   ]
  },
  {
   "cell_type": "markdown",
   "metadata": {},
   "source": [
    "### compare results"
   ]
  },
  {
   "cell_type": "code",
   "execution_count": 12,
   "metadata": {},
   "outputs": [
    {
     "data": {
      "text/html": [
       "<div>\n",
       "<style scoped>\n",
       "    .dataframe tbody tr th:only-of-type {\n",
       "        vertical-align: middle;\n",
       "    }\n",
       "\n",
       "    .dataframe tbody tr th {\n",
       "        vertical-align: top;\n",
       "    }\n",
       "\n",
       "    .dataframe thead th {\n",
       "        text-align: right;\n",
       "    }\n",
       "</style>\n",
       "<table border=\"1\" class=\"dataframe\">\n",
       "  <thead>\n",
       "    <tr style=\"text-align: right;\">\n",
       "      <th></th>\n",
       "      <th>predicted</th>\n",
       "      <th>A quale regione d'Italia appartieni?</th>\n",
       "    </tr>\n",
       "  </thead>\n",
       "  <tbody>\n",
       "    <tr>\n",
       "      <th>0</th>\n",
       "      <td>Emiglia-Romagna</td>\n",
       "      <td>Emiglia-Romagna</td>\n",
       "    </tr>\n",
       "    <tr>\n",
       "      <th>1</th>\n",
       "      <td>Lombardia</td>\n",
       "      <td>Lombardia</td>\n",
       "    </tr>\n",
       "    <tr>\n",
       "      <th>2</th>\n",
       "      <td>Toscana</td>\n",
       "      <td>Toscana</td>\n",
       "    </tr>\n",
       "    <tr>\n",
       "      <th>3</th>\n",
       "      <td>Toscana</td>\n",
       "      <td>Toscana</td>\n",
       "    </tr>\n",
       "    <tr>\n",
       "      <th>4</th>\n",
       "      <td>Campania</td>\n",
       "      <td>Campania</td>\n",
       "    </tr>\n",
       "    <tr>\n",
       "      <th>5</th>\n",
       "      <td>Toscana</td>\n",
       "      <td>Toscana</td>\n",
       "    </tr>\n",
       "    <tr>\n",
       "      <th>6</th>\n",
       "      <td>Lombardia</td>\n",
       "      <td>Lombardia</td>\n",
       "    </tr>\n",
       "    <tr>\n",
       "      <th>7</th>\n",
       "      <td>Lazio</td>\n",
       "      <td>Lazio</td>\n",
       "    </tr>\n",
       "    <tr>\n",
       "      <th>8</th>\n",
       "      <td>Veneto</td>\n",
       "      <td>Veneto</td>\n",
       "    </tr>\n",
       "    <tr>\n",
       "      <th>9</th>\n",
       "      <td>Campania</td>\n",
       "      <td>Campania</td>\n",
       "    </tr>\n",
       "    <tr>\n",
       "      <th>10</th>\n",
       "      <td>Lombardia</td>\n",
       "      <td>Svizzera Italiana</td>\n",
       "    </tr>\n",
       "    <tr>\n",
       "      <th>11</th>\n",
       "      <td>Campania</td>\n",
       "      <td>Campania</td>\n",
       "    </tr>\n",
       "  </tbody>\n",
       "</table>\n",
       "</div>"
      ],
      "text/plain": [
       "          predicted A quale regione d'Italia appartieni?\n",
       "0   Emiglia-Romagna                      Emiglia-Romagna\n",
       "1         Lombardia                            Lombardia\n",
       "2           Toscana                              Toscana\n",
       "3           Toscana                              Toscana\n",
       "4          Campania                             Campania\n",
       "5           Toscana                              Toscana\n",
       "6         Lombardia                            Lombardia\n",
       "7             Lazio                                Lazio\n",
       "8            Veneto                               Veneto\n",
       "9          Campania                             Campania\n",
       "10        Lombardia                    Svizzera Italiana\n",
       "11         Campania                             Campania"
      ]
     },
     "execution_count": 12,
     "metadata": {},
     "output_type": "execute_result"
    }
   ],
   "source": [
    "compare"
   ]
  },
  {
   "cell_type": "markdown",
   "metadata": {},
   "source": [
    "# CROSS-VALIDATION STUFF"
   ]
  },
  {
   "cell_type": "code",
   "execution_count": 13,
   "metadata": {},
   "outputs": [],
   "source": [
    "from sklearn.model_selection import KFold\n",
    "kf = KFold(n_splits=5, shuffle=True)\n",
    "import matplotlib.pyplot as plt"
   ]
  },
  {
   "cell_type": "code",
   "execution_count": 14,
   "metadata": {},
   "outputs": [
    {
     "name": "stdout",
     "output_type": "stream",
     "text": [
      "KFold(n_splits=5, random_state=None, shuffle=True)\n"
     ]
    }
   ],
   "source": [
    "print(kf)"
   ]
  },
  {
   "cell_type": "code",
   "execution_count": 17,
   "metadata": {},
   "outputs": [
    {
     "name": "stdout",
     "output_type": "stream",
     "text": [
      "TRAIN: [ 1  2  3  5  6  7  8  9 11 12 13 14 15 16 17 18 19 20 22 24 25 26 27 29\n",
      " 30 31 33 34 35 37 38 40 41 42 43 44 46 47 48 49 50 53 54 56 57 58 59 60\n",
      " 62 63 65 66 67 68 69 70 71 72 73 74 75]\n",
      "TEST: [ 0  4 10 21 23 28 32 36 39 45 51 52 55 61 64 76]\n",
      "accuracy_score:  0.875\n",
      "\n",
      "          predicted A quale regione d'Italia appartieni?\n",
      "0          Campania                              Abruzzo\n",
      "1          Campania                             Campania\n",
      "2          Campania                             Campania\n",
      "3   Emiglia-Romagna                      Emiglia-Romagna\n",
      "4             Lazio                                Lazio\n",
      "5         Lombardia                            Lombardia\n",
      "6         Lombardia                            Lombardia\n",
      "7         Lombardia                            Lombardia\n",
      "8         Lombardia                            Lombardia\n",
      "9         Lombardia                            Lombardia\n",
      "10        Lombardia                            Lombardia\n",
      "11        Lombardia                            Lombardia\n",
      "12         Piemonte                             Piemonte\n",
      "13           Puglia                               Puglia\n",
      "14          Toscana                              Sicilia\n",
      "15           Veneto                               Veneto\n"
     ]
    },
    {
     "data": {
      "image/png": "[encoded data removed]",
      "text/plain": [
       "<matplotlib.figure.Figure at 0x1a1f3e25f8>"
      ]
     },
     "metadata": {},
     "output_type": "display_data"
    },
    {
     "data": {
      "text/plain": [
       "<matplotlib.figure.Figure at 0x1a1f81e400>"
      ]
     },
     "metadata": {},
     "output_type": "display_data"
    },
    {
     "name": "stdout",
     "output_type": "stream",
     "text": [
      "TRAIN: [ 0  1  2  3  4  6  7  9 10 11 12 14 18 19 20 21 22 23 24 25 27 28 32 33\n",
      " 35 36 37 38 39 40 41 43 44 45 47 48 49 50 51 52 53 54 55 57 58 60 61 62\n",
      " 63 64 65 66 67 68 69 70 71 72 73 74 76]\n",
      "TEST: [ 5  8 13 15 16 17 26 29 30 31 34 42 46 56 59 75]\n",
      "accuracy_score:  0.9375\n",
      "\n",
      "          predicted A quale regione d'Italia appartieni?\n",
      "0          Campania                             Campania\n",
      "1          Campania                             Campania\n",
      "2          Campania                             Campania\n",
      "3          Campania                             Campania\n",
      "4   Emiglia-Romagna                      Emiglia-Romagna\n",
      "5   Emiglia-Romagna                      Emiglia-Romagna\n",
      "6             Lazio                                Lazio\n",
      "7         Lombardia                            Lombardia\n",
      "8         Lombardia                            Lombardia\n",
      "9         Lombardia                            Lombardia\n",
      "10        Lombardia                            Lombardia\n",
      "11        Lombardia                            Lombardia\n",
      "12        Lombardia                            Lombardia\n",
      "13         Piemonte                             Piemonte\n",
      "14         Campania                               Puglia\n",
      "15           Veneto                               Veneto\n"
     ]
    },
    {
     "data": {
      "image/png": "[encoded data removed]",
      "text/plain": [
       "<matplotlib.figure.Figure at 0x1a1f4b7ef0>"
      ]
     },
     "metadata": {},
     "output_type": "display_data"
    },
    {
     "data": {
      "text/plain": [
       "<matplotlib.figure.Figure at 0x1a1f8fca90>"
      ]
     },
     "metadata": {},
     "output_type": "display_data"
    },
    {
     "name": "stdout",
     "output_type": "stream",
     "text": [
      "TRAIN: [ 0  1  2  3  4  5  7  8  9 10 11 12 13 15 16 17 19 20 21 23 24 26 28 29\n",
      " 30 31 32 33 34 35 36 38 39 40 41 42 43 44 45 46 47 48 49 51 52 53 54 55\n",
      " 56 57 58 59 61 62 63 64 68 70 71 74 75 76]\n",
      "TEST: [ 6 14 18 22 25 27 37 50 60 65 66 67 69 72 73]\n",
      "accuracy_score:  0.8\n",
      "\n",
      "          predicted A quale regione d'Italia appartieni?\n",
      "0          Campania                             Campania\n",
      "1          Campania                             Campania\n",
      "2   Emiglia-Romagna                      Emiglia-Romagna\n",
      "3             Lazio                                Lazio\n",
      "4             Lazio                                Lazio\n",
      "5             Lazio                                Lazio\n",
      "6         Lombardia                            Lombardia\n",
      "7         Lombardia                            Lombardia\n",
      "8            Puglia                               Puglia\n",
      "9         Lombardia                    Svizzera Italiana\n",
      "10          Toscana                              Toscana\n",
      "11          Toscana                              Toscana\n",
      "12          Toscana                              Toscana\n",
      "13            Lazio                               Umbria\n",
      "14            Lazio                               Umbria\n"
     ]
    },
    {
     "data": {
      "image/png": "[encoded data removed]",
      "text/plain": [
       "<matplotlib.figure.Figure at 0x1a1f75aba8>"
      ]
     },
     "metadata": {},
     "output_type": "display_data"
    },
    {
     "data": {
      "text/plain": [
       "<matplotlib.figure.Figure at 0x1a1f9d4ba8>"
      ]
     },
     "metadata": {},
     "output_type": "display_data"
    },
    {
     "name": "stdout",
     "output_type": "stream",
     "text": [
      "TRAIN: [ 0  1  2  3  4  5  6  7  8  9 10 13 14 15 16 17 18 19 20 21 22 23 24 25\n",
      " 26 27 28 29 30 31 32 33 34 35 36 37 38 39 41 42 45 46 50 51 52 55 56 58\n",
      " 59 60 61 64 65 66 67 69 70 72 73 74 75 76]\n",
      "TEST: [11 12 40 43 44 47 48 49 53 54 57 62 63 68 71]\n",
      "accuracy_score:  0.8\n",
      "\n",
      "    predicted A quale regione d'Italia appartieni?\n",
      "0    Campania                             Campania\n",
      "1    Campania                             Campania\n",
      "2   Lombardia                            Lombardia\n",
      "3   Lombardia                            Lombardia\n",
      "4   Lombardia                            Lombardia\n",
      "5   Lombardia                            Lombardia\n",
      "6   Lombardia                            Lombardia\n",
      "7   Lombardia                            Lombardia\n",
      "8   Lombardia                            Lombardia\n",
      "9   Lombardia                            Lombardia\n",
      "10   Piemonte                             Piemonte\n",
      "11   Calabria                             Sardegna\n",
      "12   Calabria                              Sicilia\n",
      "13    Toscana                              Toscana\n",
      "14  Lombardia                  Trentino-Alto Adige\n"
     ]
    },
    {
     "data": {
      "image/png": "[encoded data removed]",
      "text/plain": [
       "<matplotlib.figure.Figure at 0x1a1f8126a0>"
      ]
     },
     "metadata": {},
     "output_type": "display_data"
    },
    {
     "data": {
      "text/plain": [
       "<matplotlib.figure.Figure at 0x1a1f86ab38>"
      ]
     },
     "metadata": {},
     "output_type": "display_data"
    },
    {
     "name": "stdout",
     "output_type": "stream",
     "text": [
      "TRAIN: [ 0  4  5  6  8 10 11 12 13 14 15 16 17 18 21 22 23 25 26 27 28 29 30 31\n",
      " 32 34 36 37 39 40 42 43 44 45 46 47 48 49 50 51 52 53 54 55 56 57 59 60\n",
      " 61 62 63 64 65 66 67 68 69 71 72 73 75 76]\n",
      "TEST: [ 1  2  3  7  9 19 20 24 33 35 38 41 58 70 74]\n",
      "accuracy_score:  0.8\n",
      "\n",
      "          predicted A quale regione d'Italia appartieni?\n",
      "0           Abruzzo                             Calabria\n",
      "1           Sicilia                             Calabria\n",
      "2           Sicilia                             Calabria\n",
      "3          Campania                             Campania\n",
      "4          Campania                             Campania\n",
      "5   Emiglia-Romagna                      Emiglia-Romagna\n",
      "6   Emiglia-Romagna                      Emiglia-Romagna\n",
      "7             Lazio                                Lazio\n",
      "8         Lombardia                            Lombardia\n",
      "9         Lombardia                            Lombardia\n",
      "10        Lombardia                            Lombardia\n",
      "11        Lombardia                            Lombardia\n",
      "12         Piemonte                             Piemonte\n",
      "13          Toscana                              Toscana\n",
      "14           Veneto                               Veneto\n"
     ]
    },
    {
     "data": {
      "image/png": "[encoded data removed]",
      "text/plain": [
       "<matplotlib.figure.Figure at 0x1a1f9ec438>"
      ]
     },
     "metadata": {},
     "output_type": "display_data"
    },
    {
     "data": {
      "text/plain": [
       "<matplotlib.figure.Figure at 0x1a1f756668>"
      ]
     },
     "metadata": {},
     "output_type": "display_data"
    },
    {
     "name": "stdout",
     "output_type": "stream",
     "text": [
      "\n",
      "\n",
      "\n",
      "AVERAGE:  0.8424999999999999\n"
     ]
    }
   ],
   "source": [
    "total = 0\n",
    "pred_scores = []\n",
    "for train_index, test_index in kf.split(X):\n",
    "    print(\"TRAIN:\", train_index)\n",
    "    print(\"TEST:\", test_index)\n",
    "    X_train, X_test = X[train_index], X[test_index]\n",
    "    y_train, y_test = y[train_index], y[test_index]\n",
    "    clf.fit(X_train, y_train) \n",
    "\n",
    "    pred = clf.predict(X_test)\n",
    "\n",
    "    score = accuracy_score(y_test, pred)\n",
    "\n",
    "    print('accuracy_score: ', score)\n",
    "    print()\n",
    "    \n",
    "    total += score\n",
    "    pred_scores.append(score)\n",
    "    \n",
    "    pred = pd.Series(pred, name='predicted')\n",
    "    compare = pd.concat([pred,y_test.reset_index()], axis=1).drop('index', axis=1)\n",
    "    print(compare)\n",
    "    \n",
    "    \n",
    "    fig, ax = plt.subplots()\n",
    "    ax.scatter(y_test, pred, edgecolors=(0,0,0))\n",
    "    ax.scatter(y_test, y_test, c='red',marker='*')\n",
    "    ax.set_xlabel('True')\n",
    "    ax.set_ylabel('Predicted')\n",
    "    plt.figure(figsize=(50,35))\n",
    "    plt.show()\n",
    "    \n",
    "print(\"\\n\\n\\nAVERAGE: \", total/5)"
   ]
  },
  {
   "cell_type": "code",
   "execution_count": null,
   "metadata": {},
   "outputs": [],
   "source": []
  }
 ],
 "metadata": {
  "kernelspec": {
   "display_name": "Python 3",
   "language": "python",
   "name": "python3"
  },
  "language_info": {
   "codemirror_mode": {
    "name": "ipython",
    "version": 3
   },
   "file_extension": ".py",
   "mimetype": "text/x-python",
   "name": "python",
   "nbconvert_exporter": "python",
   "pygments_lexer": "ipython3",
   "version": "3.6.4"
  }
 },
 "nbformat": 4,
 "nbformat_minor": 2
}
