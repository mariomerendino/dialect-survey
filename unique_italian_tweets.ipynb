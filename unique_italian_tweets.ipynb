{
 "cells": [
  {
   "cell_type": "code",
   "execution_count": 8,
   "metadata": {
    "scrolled": true
   },
   "outputs": [],
   "source": [
    "import json\n",
    "from unidecode import unidecode\n",
    "import re\n",
    "from collections import Counter\n",
    "\n",
    "### all regions of italy in english, italian, french, spanish, german, dutch\n",
    "### cities all have same index\n",
    "regions_it = ['Abruzzo', 'Basilicata', 'Calabria', 'Campania', 'Emilia-Romagna', 'Friuli-Venezia Giulia', 'Lazio', 'Liguria', 'Lombardia', 'Marche', 'Molise', 'Piemonte', 'Puglia', 'Sardegna', 'Sicilia', 'Toscana', 'Trentino-Alto Adige', 'Umbria', 'Valle d\\'Aosta', 'Veneto']\n",
    "regions_en = ['Abruzzo', 'Basilicata', 'Calabria', 'Campania', 'Emilia-Romagna', 'Friuli-Venezia Giulia', 'Lazio', 'Liguria', 'Lombardy', 'Marches', 'Molise', 'Piedmont', 'Apulia', 'Sardinia', 'Sicily', 'Tuscany', 'Trentino-South Tyrol', 'Umbria', 'Aosta Valley', 'Veneto']\n",
    "regions_fr = ['Abruzzes', 'Basilicate', 'Calabre', 'Camapanie', 'Emilie-Romagne', 'Frioul-Venetie Julienne', 'Latium', 'Ligurie', 'Lomardie', 'Marches', 'Molise', 'Piemont', 'Pouilles', 'Sardaigne', 'Sicile', 'Toscane', 'Trentin-Haut-Adige', 'Ombrie', 'Vallee d\\'Aoste', 'Venetie']\n",
    "regions_es = ['Abruzos', 'Basilicata', 'Calabria', 'Campania', 'Emilia-Romana', 'Friuli-Venecia Julia', 'Lacio', 'Liguria', 'Lombardia', 'Marcas', 'Molise', 'Piamonte', 'Apulia', 'Cerdena', 'Sicilia', 'Toscana', 'Trentino-Alto Adigio', 'Umbria', 'Valle de Aosta', 'Veneto']\n",
    "regions_de = ['Abruzzen', 'Basilikata', 'Kalabrien', 'Kampanien', 'Emilia Romagna', 'Friaul-Julisch-Venetien', 'Latium', 'Ligurien', 'Lombardei', 'Marken', 'Molise', 'Piemont', 'Apulien',  'Sardinien', 'Sizilien', 'Toskana', 'Trentino-Sudtirol', 'Umbrien', 'Aostatal', 'Venetien']\n",
    "regions_nl = ['Abruzzen', 'Basilicata', 'Calabrie', 'Campania', 'Emilia-Romagna', 'Friuli-Venezia Giulia', 'Lazio', 'Ligurie', 'Lombardije', 'Marche', 'Molise', 'Piemont', 'Apulie', 'Sardinie', 'Sicilie', 'Toscane', 'Trentino-Zuid-Tirol', 'Umbrie', 'Valle d\\'Aosta', 'Veneto']\n",
    "\n",
    "OTHERS = [regions_en, regions_fr, regions_es, regions_de, regions_nl]\n",
    "ALL_REGIONS = regions_it + regions_en + regions_fr + regions_es + regions_de + regions_nl\n",
    "\n",
    "\n",
    "\n",
    "filename = '/Users/sashapaulovich/Desktop/cs/survey/TwitterData_FINAL.json'\n",
    "\n",
    "with open(filename) as data:\n",
    "\tcorpus = json.load(data)\n",
    "\n",
    "### remove @, #, https, degree sign\n",
    "def clean(text):\n",
    "    tags = re.compile(r'([@]\\S*|[#]\\S*|\\bhttps\\S*)')\n",
    "    clean = tags.sub('', text)\n",
    "    clean.replace(u'\\u00b0', '')\n",
    "    return clean\n",
    "\n",
    "### replaces non-italian translations of regions to italian translations\n",
    "def change_region(loc):\n",
    "    for i in range(len(OTHERS)):\n",
    "        for j in range(len(OTHERS[i])):\n",
    "            if loc == OTHERS[i][j]:\n",
    "                loc = regions_it[j]\n",
    "    return loc\n",
    "\n",
    "\n",
    "\n",
    "cities = []\n",
    "regions = []\n",
    "content = []\n",
    "\n",
    "### all cities, regions, and content\n",
    "for tweet in corpus:\n",
    "        place = tweet['placeFullName'].split(', ')\n",
    "        \n",
    "        ### ignores tweets with only country information\n",
    "        ### ignores tweets from non-italian regions\n",
    "        \n",
    "        if (len(place) == 2) and (place[1] in ALL_REGIONS):\n",
    "            \n",
    "            text = clean(unidecode(tweet['content']))\n",
    "            \n",
    "            ### only append tweet if it's unique\n",
    "            if text not in content:\n",
    "                \n",
    "                ### unidecode removes non-words, replaces accents w ascii equivalents\n",
    "                cities.append(unidecode(place[0]))\n",
    "                regions.append(change_region(unidecode(place[1])))\n",
    "                content.append(text)\n",
    "\n",
    "        "
   ]
  },
  {
   "cell_type": "code",
   "execution_count": 9,
   "metadata": {},
   "outputs": [
    {
     "name": "stdout",
     "output_type": "stream",
     "text": [
      "unique italian tweets: 91509\n",
      "total tweets per region: \n"
     ]
    },
    {
     "data": {
      "text/plain": [
       "Counter({'Abruzzo': 1874,\n",
       "         'Basilicata': 670,\n",
       "         'Calabria': 2335,\n",
       "         'Campania': 7260,\n",
       "         'Emilia-Romagna': 8227,\n",
       "         'Friuli-Venezia Giulia': 2083,\n",
       "         'Lazio': 13770,\n",
       "         'Liguria': 3633,\n",
       "         'Lombardia': 14773,\n",
       "         'Marche': 1911,\n",
       "         'Molise': 274,\n",
       "         'Piemonte': 5593,\n",
       "         'Puglia': 4478,\n",
       "         'Sardegna': 3105,\n",
       "         'Sicilia': 5996,\n",
       "         'Toscana': 7496,\n",
       "         'Trentino-Alto Adige': 1259,\n",
       "         'Umbria': 1193,\n",
       "         \"Valle d'Aosta\": 274,\n",
       "         'Veneto': 5305})"
      ]
     },
     "execution_count": 9,
     "metadata": {},
     "output_type": "execute_result"
    }
   ],
   "source": [
    "print 'unique italian tweets: %d' %len(content)\n",
    "\n",
    "print 'total tweets per region: '\n",
    "Counter(regions) # displays number of tweets for each region"
   ]
  },
  {
   "cell_type": "code",
   "execution_count": 10,
   "metadata": {},
   "outputs": [
    {
     "data": {
      "text/plain": [
       "OrderedDict([('Lombardia', 14773),\n",
       "             ('Lazio', 13770),\n",
       "             ('Emilia-Romagna', 8227),\n",
       "             ('Toscana', 7496),\n",
       "             ('Campania', 7260),\n",
       "             ('Sicilia', 5996),\n",
       "             ('Piemonte', 5593),\n",
       "             ('Veneto', 5305),\n",
       "             ('Puglia', 4478),\n",
       "             ('Liguria', 3633),\n",
       "             ('Sardegna', 3105),\n",
       "             ('Calabria', 2335),\n",
       "             ('Friuli-Venezia Giulia', 2083),\n",
       "             ('Marche', 1911),\n",
       "             ('Abruzzo', 1874),\n",
       "             ('Trentino-Alto Adige', 1259),\n",
       "             ('Umbria', 1193),\n",
       "             ('Basilicata', 670),\n",
       "             ('Molise', 274),\n",
       "             (\"Valle d'Aosta\", 274)])"
      ]
     },
     "execution_count": 10,
     "metadata": {},
     "output_type": "execute_result"
    }
   ],
   "source": [
    "### sort tweets per region\n",
    "\n",
    "from collections import OrderedDict\n",
    "\n",
    "OrderedDict(Counter(regions).most_common())"
   ]
  },
  {
   "cell_type": "code",
   "execution_count": null,
   "metadata": {
    "collapsed": true
   },
   "outputs": [],
   "source": []
  }
 ],
 "metadata": {
  "kernelspec": {
   "display_name": "Python 2",
   "language": "python",
   "name": "python2"
  },
  "language_info": {
   "codemirror_mode": {
    "name": "ipython",
    "version": 2
   },
   "file_extension": ".py",
   "mimetype": "text/x-python",
   "name": "python",
   "nbconvert_exporter": "python",
   "pygments_lexer": "ipython2",
   "version": "2.7.13"
  }
 },
 "nbformat": 4,
 "nbformat_minor": 2
}
