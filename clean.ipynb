{
 "cells": [
  {
   "cell_type": "code",
   "execution_count": 1,
   "metadata": {
    "scrolled": true
   },
   "outputs": [],
   "source": [
    "import json\n",
    "from unidecode import unidecode\n",
    "import re\n",
    "\n",
    "\n",
    "with open('/Users/sashapaulovich/Desktop/cs/survey/TwitterData_FINAL.json') as data:\n",
    "\tcorpus = json.load(data)\n"
   ]
  },
  {
   "cell_type": "code",
   "execution_count": 2,
   "metadata": {
    "scrolled": true
   },
   "outputs": [],
   "source": [
    "# all regions of italy in english, italian, french, spanish, and german\n",
    "# what's a better way to do this?\n",
    "\n",
    "regions_en = ['Abruzzo', 'Aosta Valley', 'Apulia', 'Basilicata', 'Calabria', 'Campania', 'Emilia-Romagna', 'Friuli-Venezia Giulia', 'Lazio', 'Liguria', 'Lombardy', 'Marches', 'Molise', 'Piedmont', 'Sardinia', 'Sicily', 'Trentino-South Tyrol', 'Tuscany', 'Umbria', 'Veneto']\n",
    "regions_it = ['Abruzzo', 'Basilicata', 'Calabria', 'Campania', 'Emilia-Romagna', 'Friuli-Venezia Giulia', 'Lazio', 'Liguria', 'Lombardia', 'Marche', 'Molise', 'Piemonte', 'Puglia', 'Sardegna', 'Sicilia', 'Toscana', 'Trentino-Alto Adige', 'Umbria', 'Valle d\\'Aosta', 'Veneto']\n",
    "regions_fr = ['Abruzzes', 'Vallee d\\'Aoste', 'Basilicate', 'Calabre', 'Camapanie', 'Emilie-Romagne', 'Frioul-Venetie Julienne', 'Latium', 'Ligurie', 'Lomardie', 'Marches', 'Molise', 'Ombrie', 'Piemont', 'Pouilles', 'Sardaigne', 'Sicile', 'Toscane', 'Trentin-Haut-Adige', 'Venetie']\n",
    "regions_es = ['Abruzos', 'Apulia', 'Basilicata', 'Calabria', 'Campania', 'Cerdena', 'Emilia-Romana', 'Friuli-Venecia Julia', 'Lacio', 'Lombardia', 'Marcas', 'Molise', 'Piamonte', 'Sicilia', 'Toscana', 'Trentino-Alto Adigio', 'Umbria', 'Valle de Aosta', 'Veneto']\n",
    "regions_de = ['Abruzzen', 'Aostatal', 'Apulien', 'Basilikata', 'Emilia Romagna', 'Friaul-Julisch Venetien', 'Friaul-Julisch-Venetien','Kalabrien', 'Kampanien', 'Latium', 'Ligurien', 'Lombardei', 'Marken', 'Molise', 'Piemont', 'Sardinien', 'Sizilien', 'Toskana', 'Trentino-Sudtirol', 'Umbrien', 'Venetien']\n",
    "all_regions = regions_en + regions_it + regions_fr + regions_es + regions_de\n",
    "all_regions.append('Lombardije')\n",
    "all_regions = sorted(list(set(all_regions)))\n",
    "\n",
    "# print len(all_regions)\n",
    "# for region in all_regions:\n",
    "#     print region\n"
   ]
  },
  {
   "cell_type": "code",
   "execution_count": 3,
   "metadata": {},
   "outputs": [],
   "source": [
    "def clean(text):\n",
    "    tags = re.compile(r'([@]\\S*|[#]\\S*|\\bhttps\\S*)')\n",
    "    return tags.sub('', text)"
   ]
  },
  {
   "cell_type": "code",
   "execution_count": 6,
   "metadata": {},
   "outputs": [],
   "source": [
    "cities = []\n",
    "regions = []\n",
    "content = []\n",
    "\n",
    "# # all regions and content\n",
    "for tweet in corpus:\n",
    "        place = tweet['placeFullName'].split(', ')\n",
    "        \n",
    "        # ignores tweets with no city (usually only country information is given)\n",
    "        # ignores tweets from non-italian regions\n",
    "        \n",
    "        if (len(place) == 2) and (place[1] in all_regions):\n",
    "            \n",
    "            #unidecode removes non-words, replaces accents w ascii equivalents\n",
    "            cities.append(unidecode(place[0]))\n",
    "            regions.append(unidecode(place[1]))\n",
    "            \n",
    "            content.append(clean(unidecode(tweet['content'])))\n",
    "                          \n",
    "\n",
    "# print len(set(cities)) #4288\n",
    "# print len(set(regions)) #55\n",
    "# print len(content) #96340"
   ]
  },
  {
   "cell_type": "code",
   "execution_count": 8,
   "metadata": {
    "scrolled": true
   },
   "outputs": [
    {
     "name": "stdout",
     "output_type": "stream",
     "text": [
      " Da riempire di coccole e baci\n",
      "Tipo  ... ma mi aspettavo \"sto cazzo\"... come risposta \n",
      "La guerra sui social solo per chi non ha le palle di dire le cose in faccia\n",
      "  vi ricorda qualcosa ? C'e ancora qualche giornalista in giro ?\n",
      " AHHHHHAHAHAHAHHAHAHAHAH \n",
      "Al lavoro c'e uno dei capi che ha un culo stupendo e un profumo buonissimo,potrebbe essere mio padre ma cavolo un pensiero lo faccio\n",
      " ciccino anche da adolescente  \n",
      "Scelta corretta.  \n",
      "Pizza in Piazza a Civitanova Alta ( Pizzeria Agli Artisti in Civitanova Alta, Marche)  \n",
      "Parenzo ti sei cacato nei pantaloni guarda come gongoli fai senso per quanto sei viscido leccaculo prezzolata di merda \n",
      "Hanno un buon profumo i sogni Sempre lo stesso a tutte le eta  e in tutte le stagioni,profumano di speranze ed atte... \n",
      "6. Barca 7. Francesco Totti 8. Cristiano Ronaldo 9.  10.   2017/8/24 20:36 CEST  \n",
      "Boicottaggio e chiusura del B&B  \n",
      "     Le raccomandazioni non hanno eta \n",
      "margherita non sa, sta cercando il suo nome\n",
      " ricordo che avevi un problema simile? \n",
      "      Carloforte, Italy \n",
      "Stasera a  con  sara sicuramente interessante. Ormai  e una garanzia!  \n",
      "RUSSA con uovo rucola e scaglie     \n",
      " Eri super sexy Apparte gli scherzi eri e sei bellissimo\n",
      "Bastardi maledetti era finita 6-5,quando cazzo gli hanno fatti 7 gol,e una farsa.porca troia \n",
      "Bea mi mancaaaa tanto tanto \n",
      "- tutte quelle ore di buio? E la scuola poi? Io boh, non vi capisco; andate a vivere in finlandia, che ve devo di. \n",
      "Dio Mio che Fagiana C18.  \n",
      "Wow, che bella camicia di  con le stampe in COMIC SANS MS??????????????????? \n",
      "Stiamo babbiando? ... \n",
      " Eh si ma poi veniva pestato nei bagni\n",
      "Fiorenza dentro dalla cerchia antica, ond'ella toglie ancora e terza e nona, si stava in pace,... \n",
      "Un'opposizione normale avrebbe attaccato governo e comune di Roma per l'incapacita, negli anni, di trovare una sistemazione per i rifugiati.\n",
      "Tu sei   Tu meriti il   Tu sei   Ma ancora non lo sai!   \n",
      "Belle le pubblicita sulle perdite urinarie mentre stai cenando!\n",
      "Quando le cose finiscono cosi non e una prova di forza. Conunque e una sconfitta per tutti \n",
      " ma son malati dai...\n",
      "Mi fa male la schiena da morire \n",
      "Devo smettere di cuorare e commentare post, cercando un'interazione, di persone a cui non interessa minimamente interagire con me\n",
      " ? Napoli ? L'Arte ? I beni culturali ? Emergenza rifiuti ? Ora e merito del  ? Balle solo balle  \n",
      " P.za Indipendenza a Roma come Adua o l'Amba Alagi. Nn c'e meschinita maggiore della lotta politica di giornalisti militanti di parte\n",
      "No, dai. \n",
      "Uros ha capito che Bart in ricezione fa schifo al cazzo, good job Dom.\n",
      "Foto appena pubblicata  Venezia, Italia \n",
      "Foto appena pubblicata  Gerundium Fest \n",
      "Ecco che ora parte il \"caso  che ride al  Che pesantezza sti tifosi. E fatevela pure voi una risata ogni tanto.\n",
      "Mauri('96)-Locatelli('98)-Zanellato('98). Il milan punta sull'esperienza a meta campo per la delicata trasferta in Macedonia \n",
      "Akinator che indovina  in 21 domande \n",
      "Non sempre il cielo ci accorda cio  che desideriamo \n",
      " Sulla base dell'articolo che lo riguarda, no\n",
      "Sorridi piu che puoi [?]         \n",
      "E poi dicono che l'omeopatia non fa effetto... \n",
      "Mazzillo si' e Pizzarotti?  \n",
      "Mi sono trovata 230 mail, ci sono persone che ancora le inviano !?!\n"
     ]
    }
   ],
   "source": [
    "for i in range(50):\n",
    "    print content[i]"
   ]
  },
  {
   "cell_type": "code",
   "execution_count": null,
   "metadata": {
    "collapsed": true
   },
   "outputs": [],
   "source": []
  }
 ],
 "metadata": {
  "kernelspec": {
   "display_name": "Python 2",
   "language": "python",
   "name": "python2"
  },
  "language_info": {
   "codemirror_mode": {
    "name": "ipython",
    "version": 2
   },
   "file_extension": ".py",
   "mimetype": "text/x-python",
   "name": "python",
   "nbconvert_exporter": "python",
   "pygments_lexer": "ipython2",
   "version": "2.7.13"
  }
 },
 "nbformat": 4,
 "nbformat_minor": 2
}
